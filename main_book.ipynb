{
 "cells": [
  {
   "attachments": {},
   "cell_type": "markdown",
   "metadata": {},
   "source": [
    "Import required libraries"
   ]
  },
  {
   "cell_type": "code",
   "execution_count": 1,
   "metadata": {},
   "outputs": [],
   "source": [
    "import pandas as pd\n",
    "import numpy as np\n",
    "np.random.seed(0)\n",
    "\n",
    "from sklearn.metrics import mean_squared_log_error\n",
    "from sklearn.model_selection import GroupKFold\n",
    "\n",
    "from sklearn.tree import DecisionTreeRegressor\n",
    "from sklearn.ensemble import RandomForestRegressor\n",
    "\n",
    "from tqdm import tqdm\n",
    "from collections import defaultdict\n",
    "\n",
    "import matplotlib.pyplot as plt"
   ]
  },
  {
   "attachments": {},
   "cell_type": "markdown",
   "metadata": {},
   "source": [
    "Block of primary analysis"
   ]
  },
  {
   "cell_type": "code",
   "execution_count": 2,
   "metadata": {},
   "outputs": [
    {
     "data": {
      "text/plain": [
       "(10886, 12)"
      ]
     },
     "execution_count": 2,
     "metadata": {},
     "output_type": "execute_result"
    }
   ],
   "source": [
    "# Loading the training dataset. Checking the dimension\n",
    "train = pd.read_csv('datasets/bike_train.csv')\n",
    "train.shape"
   ]
  },
  {
   "cell_type": "code",
   "execution_count": 3,
   "metadata": {},
   "outputs": [
    {
     "name": "stdout",
     "output_type": "stream",
     "text": [
      "<class 'pandas.core.frame.DataFrame'>\n",
      "RangeIndex: 10886 entries, 0 to 10885\n",
      "Data columns (total 12 columns):\n",
      " #   Column      Non-Null Count  Dtype  \n",
      "---  ------      --------------  -----  \n",
      " 0   datetime    10886 non-null  object \n",
      " 1   season      10886 non-null  int64  \n",
      " 2   holiday     10886 non-null  int64  \n",
      " 3   workingday  10886 non-null  int64  \n",
      " 4   weather     10886 non-null  int64  \n",
      " 5   temp        10886 non-null  float64\n",
      " 6   atemp       10886 non-null  float64\n",
      " 7   humidity    10886 non-null  int64  \n",
      " 8   windspeed   10886 non-null  float64\n",
      " 9   casual      10886 non-null  int64  \n",
      " 10  registered  10886 non-null  int64  \n",
      " 11  count       10886 non-null  int64  \n",
      "dtypes: float64(3), int64(8), object(1)\n",
      "memory usage: 1020.7+ KB\n"
     ]
    }
   ],
   "source": [
    "# We look at general information on features (types)\n",
    "# No data gaps\n",
    "train.info()"
   ]
  },
  {
   "cell_type": "code",
   "execution_count": 4,
   "metadata": {},
   "outputs": [
    {
     "data": {
      "text/html": [
       "<div>\n",
       "<style scoped>\n",
       "    .dataframe tbody tr th:only-of-type {\n",
       "        vertical-align: middle;\n",
       "    }\n",
       "\n",
       "    .dataframe tbody tr th {\n",
       "        vertical-align: top;\n",
       "    }\n",
       "\n",
       "    .dataframe thead th {\n",
       "        text-align: right;\n",
       "    }\n",
       "</style>\n",
       "<table border=\"1\" class=\"dataframe\">\n",
       "  <thead>\n",
       "    <tr style=\"text-align: right;\">\n",
       "      <th></th>\n",
       "      <th>datetime</th>\n",
       "      <th>season</th>\n",
       "      <th>holiday</th>\n",
       "      <th>workingday</th>\n",
       "      <th>weather</th>\n",
       "      <th>temp</th>\n",
       "      <th>atemp</th>\n",
       "      <th>humidity</th>\n",
       "      <th>windspeed</th>\n",
       "      <th>casual</th>\n",
       "      <th>registered</th>\n",
       "      <th>count</th>\n",
       "    </tr>\n",
       "  </thead>\n",
       "  <tbody>\n",
       "    <tr>\n",
       "      <th>6638</th>\n",
       "      <td>2012-03-13 21:00:00</td>\n",
       "      <td>1</td>\n",
       "      <td>0</td>\n",
       "      <td>1</td>\n",
       "      <td>1</td>\n",
       "      <td>23.78</td>\n",
       "      <td>27.275</td>\n",
       "      <td>56</td>\n",
       "      <td>7.0015</td>\n",
       "      <td>44</td>\n",
       "      <td>200</td>\n",
       "      <td>244</td>\n",
       "    </tr>\n",
       "    <tr>\n",
       "      <th>7975</th>\n",
       "      <td>2012-06-12 16:00:00</td>\n",
       "      <td>2</td>\n",
       "      <td>0</td>\n",
       "      <td>1</td>\n",
       "      <td>2</td>\n",
       "      <td>27.06</td>\n",
       "      <td>29.545</td>\n",
       "      <td>89</td>\n",
       "      <td>19.0012</td>\n",
       "      <td>30</td>\n",
       "      <td>209</td>\n",
       "      <td>239</td>\n",
       "    </tr>\n",
       "    <tr>\n",
       "      <th>5915</th>\n",
       "      <td>2012-02-02 16:00:00</td>\n",
       "      <td>1</td>\n",
       "      <td>0</td>\n",
       "      <td>1</td>\n",
       "      <td>1</td>\n",
       "      <td>18.86</td>\n",
       "      <td>22.725</td>\n",
       "      <td>55</td>\n",
       "      <td>19.0012</td>\n",
       "      <td>18</td>\n",
       "      <td>211</td>\n",
       "      <td>229</td>\n",
       "    </tr>\n",
       "    <tr>\n",
       "      <th>8050</th>\n",
       "      <td>2012-06-15 19:00:00</td>\n",
       "      <td>2</td>\n",
       "      <td>0</td>\n",
       "      <td>1</td>\n",
       "      <td>1</td>\n",
       "      <td>28.70</td>\n",
       "      <td>31.820</td>\n",
       "      <td>42</td>\n",
       "      <td>11.0014</td>\n",
       "      <td>98</td>\n",
       "      <td>369</td>\n",
       "      <td>467</td>\n",
       "    </tr>\n",
       "    <tr>\n",
       "      <th>5894</th>\n",
       "      <td>2012-02-01 19:00:00</td>\n",
       "      <td>1</td>\n",
       "      <td>0</td>\n",
       "      <td>1</td>\n",
       "      <td>1</td>\n",
       "      <td>22.14</td>\n",
       "      <td>25.760</td>\n",
       "      <td>52</td>\n",
       "      <td>19.0012</td>\n",
       "      <td>20</td>\n",
       "      <td>315</td>\n",
       "      <td>335</td>\n",
       "    </tr>\n",
       "  </tbody>\n",
       "</table>\n",
       "</div>"
      ],
      "text/plain": [
       "                 datetime  season  holiday  workingday  weather   temp  \\\n",
       "6638  2012-03-13 21:00:00       1        0           1        1  23.78   \n",
       "7975  2012-06-12 16:00:00       2        0           1        2  27.06   \n",
       "5915  2012-02-02 16:00:00       1        0           1        1  18.86   \n",
       "8050  2012-06-15 19:00:00       2        0           1        1  28.70   \n",
       "5894  2012-02-01 19:00:00       1        0           1        1  22.14   \n",
       "\n",
       "       atemp  humidity  windspeed  casual  registered  count  \n",
       "6638  27.275        56     7.0015      44         200    244  \n",
       "7975  29.545        89    19.0012      30         209    239  \n",
       "5915  22.725        55    19.0012      18         211    229  \n",
       "8050  31.820        42    11.0014      98         369    467  \n",
       "5894  25.760        52    19.0012      20         315    335  "
      ]
     },
     "execution_count": 4,
     "metadata": {},
     "output_type": "execute_result"
    }
   ],
   "source": [
    "# Seeing multiple rows in data\n",
    "train.sample(5)"
   ]
  },
  {
   "cell_type": "code",
   "execution_count": 5,
   "metadata": {},
   "outputs": [
    {
     "data": {
      "text/plain": [
       "(0, 12)"
      ]
     },
     "execution_count": 5,
     "metadata": {},
     "output_type": "execute_result"
    }
   ],
   "source": [
    "# Target variable - count\n",
    "# It consists of casual and registered\n",
    "# registered - this is a registered lease\n",
    "# casual - random, you can say someone came from the street and took the bike\n",
    "\n",
    "# Checking. Should be zero\n",
    "train[train['casual'] + train['registered'] != train['count']].shape"
   ]
  },
  {
   "cell_type": "code",
   "execution_count": 6,
   "metadata": {},
   "outputs": [
    {
     "data": {
      "image/png": "[encoded data removed]",
      "text/plain": [
       "<Figure size 600x400 with 1 Axes>"
      ]
     },
     "metadata": {},
     "output_type": "display_data"
    }
   ],
   "source": [
    "# We look at the distribution of the target variable. Histogram tail is skewed to the right\n",
    "# It will be necessary to transform the target feature (make a logarithm) to simplify the model\n",
    "plt.rcParams['figure.figsize']=(6,4)\n",
    "train['count'].hist(bins=50);"
   ]
  },
  {
   "cell_type": "code",
   "execution_count": 7,
   "metadata": {},
   "outputs": [
    {
     "data": {
      "image/png": "[encoded data removed]",
      "text/plain": [
       "<Figure size 600x400 with 1 Axes>"
      ]
     },
     "metadata": {},
     "output_type": "display_data"
    }
   ],
   "source": [
    "# Target feature, only with logarithmization. The sign began to look more uniform\n",
    "np.log(train['count']).hist(bins=50);"
   ]
  },
  {
   "attachments": {},
   "cell_type": "markdown",
   "metadata": {},
   "source": [
    "Block of modeling and creation of new features"
   ]
  },
  {
   "attachments": {},
   "cell_type": "markdown",
   "metadata": {},
   "source": [
    "Feature Engineering #1"
   ]
  },
  {
   "cell_type": "code",
   "execution_count": 8,
   "metadata": {},
   "outputs": [],
   "source": [
    "# We decompose the datetime attribute into separate elements. (year, month, day, etc.)\n",
    "train['datetime'] = pd.to_datetime(train['datetime'])\n",
    "\n",
    "train['year'] = train['datetime'].dt.year\n",
    "train['month'] = train['datetime'].dt.month\n",
    "train['day'] = train['datetime'].dt.day\n",
    "train['hour'] = train['datetime'].dt.hour\n",
    "train['minute'] = train['datetime'].dt.minute\n",
    "\n",
    "train['dayofweek'] = train['datetime'].dt.dayofweek\n",
    "train['weekofyear'] = train['datetime'].dt.isocalendar().week\n",
    "train['weekend'] = train['dayofweek'].map(lambda x: int(x in [5,6]))\n",
    "train['dayofyear'] = train['datetime'].dt.dayofyear"
   ]
  },
  {
   "cell_type": "code",
   "execution_count": 9,
   "metadata": {},
   "outputs": [],
   "source": [
    "# A function that returns numerical features for training the model\n",
    "def get_feats(df):\n",
    "\tblack_list = ['count', 'count_log', 'registered', 'registered_log', 'casual', 'casual_log']\n",
    "\tfeats = df.select_dtypes(include=[np.number]).columns\n",
    "\tfeats = [feat for feat in feats if feat not in black_list]\n",
    "\treturn feats\n",
    "\n",
    "# Feature separation function related to time so that there is a uniform distribution\n",
    "def custom_validation(df, feats, target_variable='count', n_folds=3):\n",
    "\tX = df[feats].values\n",
    "\ty = df[target_variable].values\n",
    "\n",
    "\tgroups = train['month'].values\n",
    "\tgroup_kfold = GroupKFold(n_splits=n_folds)\n",
    "\n",
    "\tfor train_idx, test_idx in group_kfold.split(X, y, groups):\n",
    "\t\tyield X[train_idx], X[test_idx], y[train_idx], y[test_idx]\n",
    "\n",
    "# Model training function\n",
    "def run_cv(train, feats, model, folds=3):\n",
    "\tscores = []\n",
    "\tfor X_train, X_test, y_train, y_test in custom_validation(train, feats):\n",
    "\t\tmodel.fit(X_train, y_train)\n",
    "\t\ty_pred = model.predict(X_test)\n",
    "\t\tscore = np.sqrt(mean_squared_log_error(y_test, y_pred))\n",
    "\n",
    "\t\tscores.append(score)\n",
    "\n",
    "\treturn np.mean(scores), np.std(scores)"
   ]
  },
  {
   "cell_type": "code",
   "execution_count": 10,
   "metadata": {},
   "outputs": [
    {
     "data": {
      "text/plain": [
       "(0.6246871988174122, 0.0043396585185402)"
      ]
     },
     "execution_count": 10,
     "metadata": {},
     "output_type": "execute_result"
    }
   ],
   "source": [
    "# Train the DecisionTreeRegressor Model\n",
    "# We get approximately 0.62\n",
    "run_cv(train, get_feats(train), DecisionTreeRegressor(max_depth=5, random_state=0))"
   ]
  },
  {
   "cell_type": "code",
   "execution_count": 11,
   "metadata": {},
   "outputs": [
    {
     "data": {
      "text/plain": [
       "(0.60536168716467, 0.006459069185653864)"
      ]
     },
     "execution_count": 11,
     "metadata": {},
     "output_type": "execute_result"
    }
   ],
   "source": [
    "# Run the RandomForestRegressor model\n",
    "# The result has become better - 0.60\n",
    "run_cv(train, get_feats(train), RandomForestRegressor(max_depth=5, n_estimators=20, random_state=0))"
   ]
  },
  {
   "attachments": {},
   "cell_type": "markdown",
   "metadata": {},
   "source": [
    "Feature Engineering #2"
   ]
  },
  {
   "cell_type": "code",
   "execution_count": 12,
   "metadata": {},
   "outputs": [
    {
     "data": {
      "text/plain": [
       "0    32.0\n",
       "1    16.0\n",
       "2    10.0\n",
       "3     6.0\n",
       "4     5.0\n",
       "dtype: float64"
      ]
     },
     "execution_count": 12,
     "metadata": {},
     "output_type": "execute_result"
    }
   ],
   "source": [
    "# We continue to work with features\n",
    "# Let's group by year\n",
    "agg_feats = ['year', 'hour']\n",
    "agg_func = np.median\n",
    "\n",
    "agg_hour_year = train[agg_feats + ['count']].groupby(agg_feats).agg(agg_func).to_dict()['count']\n",
    "new_feat = '{0}_{1}'.format(agg_func.__name__, '_'.join(agg_feats))\n",
    "train[agg_feats].apply(lambda x: agg_hour_year[tuple(dict(x).values())], axis=1).head()"
   ]
  },
  {
   "cell_type": "code",
   "execution_count": 13,
   "metadata": {},
   "outputs": [
    {
     "name": "stderr",
     "output_type": "stream",
     "text": [
      "100%|██████████| 3/3 [00:04<00:00,  1.50s/it]\n"
     ]
    }
   ],
   "source": [
    "# Let's aggregate 2 variables. Calculate mean time, median, and standard deviation\n",
    "agg_feats = [\n",
    "\t['hour', 'year'],\n",
    "\t['hour', 'season'],\n",
    "\t['hour', 'month']\n",
    "]\n",
    "\n",
    "for agg_feat in tqdm(agg_feats):\n",
    "\tfor agg_func in [np.mean, np.median, np.sum, np.std]:\n",
    "\t\tdict_agg = train[agg_feat + ['count']].groupby(agg_feat).agg(agg_func).to_dict()['count']\n",
    "\t\tnew_feat = 'agg_{0}_{1}'.format(agg_func.__name__, '_'.join(agg_feat)) \n",
    "\n",
    "\t\tdefault_dict_val = agg_func(list(dict_agg.values()))\n",
    "\t\tdefault_dict_agg = defaultdict(lambda: default_dict_val, dict_agg)\n",
    "\n",
    "\t\ttrain[new_feat] = train[agg_feat].apply(lambda x: dict_agg[tuple(dict(x).values())], axis=1)"
   ]
  },
  {
   "cell_type": "code",
   "execution_count": 14,
   "metadata": {},
   "outputs": [
    {
     "data": {
      "text/plain": [
       "['agg_mean_hour_year',\n",
       " 'agg_median_hour_year',\n",
       " 'agg_sum_hour_year',\n",
       " 'agg_std_hour_year',\n",
       " 'agg_mean_hour_season',\n",
       " 'agg_median_hour_season',\n",
       " 'agg_sum_hour_season',\n",
       " 'agg_std_hour_season',\n",
       " 'agg_mean_hour_month',\n",
       " 'agg_median_hour_month',\n",
       " 'agg_sum_hour_month',\n",
       " 'agg_std_hour_month']"
      ]
     },
     "execution_count": 14,
     "metadata": {},
     "output_type": "execute_result"
    }
   ],
   "source": [
    "# List of resulting additional features\n",
    "agg_feats = [feat for feat in train.columns if feat.startswith('agg_')]\n",
    "agg_feats"
   ]
  },
  {
   "cell_type": "code",
   "execution_count": 15,
   "metadata": {},
   "outputs": [
    {
     "data": {
      "text/plain": [
       "(0.6124358467194936, 0.022378367970889525)"
      ]
     },
     "execution_count": 15,
     "metadata": {},
     "output_type": "execute_result"
    }
   ],
   "source": [
    "# Checking out the new RandomForestRegressor model\n",
    "# The result is about the same, even became a little worse\n",
    "run_cv(train, get_feats(train), RandomForestRegressor(max_depth=5, n_estimators=20, random_state=0))"
   ]
  },
  {
   "cell_type": "code",
   "execution_count": 16,
   "metadata": {},
   "outputs": [
    {
     "data": {
      "text/plain": [
       "(0.5856258021778558, 0.02033189692720682)"
      ]
     },
     "execution_count": 16,
     "metadata": {},
     "output_type": "execute_result"
    }
   ],
   "source": [
    "# Perform a logarithmic transformation of the target variable (count)\n",
    "# For symmetry, add a constant value in front of the logarithm\n",
    "feats = get_feats(train)\n",
    "X = train[feats].values\n",
    "\n",
    "groups = train['datetime'].dt.month.values\n",
    "group_kfold = GroupKFold(n_splits=3)\n",
    "\n",
    "count = train['count'].values\n",
    "offset_log = 6\n",
    "count_log = np.log2(count + offset_log)\n",
    "\n",
    "scores = []\n",
    "for train_idx, test_idx in group_kfold.split(X, count, groups):\n",
    "    model = DecisionTreeRegressor(max_depth=5, random_state=0)\n",
    "    model.fit(X[train_idx], count_log[train_idx])\n",
    "    count_log_pred = model.predict(X[test_idx])\n",
    "    \n",
    "    count_pred = np.exp2( count_log_pred ) - offset_log\n",
    "    score = np.sqrt(mean_squared_log_error(count[test_idx], count_pred))\n",
    "    scores.append(score)\n",
    "\n",
    "np.mean(scores), np.std(scores)\n",
    "# Model result improved - 0.585"
   ]
  },
  {
   "cell_type": "code",
   "execution_count": 17,
   "metadata": {},
   "outputs": [
    {
     "data": {
      "text/plain": [
       "(0.5619351616859883, 0.01840269129197027)"
      ]
     },
     "execution_count": 17,
     "metadata": {},
     "output_type": "execute_result"
    }
   ],
   "source": [
    "# Let's do the same conversion for registered, casual (since they affect count)\n",
    "feats = get_feats(train)\n",
    "groups = train['datetime'].dt.month.values\n",
    "group_kfold = GroupKFold(n_splits=3)\n",
    "X = train[feats].values\n",
    "offset_log = 3\n",
    "\n",
    "registered = train['registered'].values\n",
    "registered_log = np.log2(registered + offset_log)\n",
    "\n",
    "casual = train['casual'].values\n",
    "casual_log = np.log2(casual + offset_log)\n",
    "\n",
    "count = train['count'].values\n",
    "count_log = np.log2(count + offset_log)\n",
    "\n",
    "scores = []\n",
    "for train_idx, test_idx in group_kfold.split(X, count, groups):\n",
    "\tmodel = DecisionTreeRegressor(max_depth=5, random_state=2019)\n",
    "\tmodel.fit(X[train_idx], registered_log[train_idx])\n",
    "\tregistered_log_pred = model.predict(X[test_idx])\n",
    "\tregistered_pred = np.exp2(registered_log_pred) - offset_log\n",
    "\n",
    "\tmodel = DecisionTreeRegressor(max_depth=5)\n",
    "\tmodel.fit(X[train_idx], casual_log[train_idx])\n",
    "\tcasual_log_pred = model.predict(X[test_idx])\n",
    "\tcasual_pred = np.exp2(casual_log_pred) - offset_log\n",
    "\n",
    "\tcount_pred = registered_pred + casual_pred\n",
    "\tscore = np.sqrt(mean_squared_log_error(count[test_idx], count_pred))\n",
    "\tscores.append(score)\n",
    "\n",
    "np.mean(scores), np.std(scores)\n",
    "# The result is even better - 0.56"
   ]
  },
  {
   "cell_type": "code",
   "execution_count": 18,
   "metadata": {},
   "outputs": [],
   "source": [
    "# Итоговая функция для моделирования\n",
    "def run_log_registered_casual(train, model_class, model_params={}, feats=None, folds=3):\n",
    "\tif feats is None:\n",
    "\t\tfeats = get_feats(train)\n",
    "\n",
    "\tgroups = train['datetime'].dt.month.values\n",
    "\tgroup_kfold = GroupKFold(n_splits=3)\n",
    "\n",
    "\tX = train[feats].values\n",
    "\toffset_log = 3\n",
    "\n",
    "\tregistered = train['registered'].values\n",
    "\tregistered_log = np.log2(registered + offset_log)\n",
    "\n",
    "\tcasual = train['casual'].values\n",
    "\tcasual_log = np.log2(casual + offset_log)\n",
    "\n",
    "\tcount = train['count'].values\n",
    "\tcount_log = np.log2(count + offset_log)\n",
    "\n",
    "\tscores = []\n",
    "\tfor train_idx, test_idx in group_kfold.split(X, count, groups):\n",
    "\t\tmodel = model_class(**model_params)\n",
    "\t\tmodel.fit(X[train_idx], registered_log[train_idx])\n",
    "\t\tregistered_log_pred = model.predict(X[test_idx])\n",
    "\t\tregistered_pred = np.exp2(registered_log_pred) - offset_log\n",
    "\n",
    "\t\tmodel = model_class(**model_params)\n",
    "\t\tmodel.fit(X[train_idx], casual_log[train_idx])\n",
    "\t\tcasual_log_pred = model.predict(X[test_idx])\n",
    "\t\tcasual_pred = np.exp2(casual_log_pred) - offset_log\n",
    "\n",
    "\t\tcount_pred = registered_pred + casual_pred\n",
    "\n",
    "\t\tscore = np.sqrt(mean_squared_log_error(count[test_idx], count_pred))\n",
    "\t\tscores.append(score)\n",
    "\n",
    "\treturn np.mean(scores), np.std(scores)"
   ]
  },
  {
   "cell_type": "code",
   "execution_count": 19,
   "metadata": {},
   "outputs": [
    {
     "data": {
      "text/plain": [
       "(0.3566502685231591, 0.007714002957999988)"
      ]
     },
     "execution_count": 19,
     "metadata": {},
     "output_type": "execute_result"
    }
   ],
   "source": [
    "# Train the RandomForestRegressor Model\n",
    "# Based on this dataset, we trained models that showed approximately 0.356 error from the desired values\n",
    "\n",
    "rf_params = {\n",
    "    'n_estimators': 100, \n",
    "    'max_depth': 15, \n",
    "    'random_state': 0, \n",
    "    'min_samples_split' : 5\n",
    "}\n",
    "run_log_registered_casual(train, RandomForestRegressor, rf_params )"
   ]
  }
 ],
 "metadata": {
  "kernelspec": {
   "display_name": "Python 3",
   "language": "python",
   "name": "python3"
  },
  "language_info": {
   "codemirror_mode": {
    "name": "ipython",
    "version": 3
   },
   "file_extension": ".py",
   "mimetype": "text/x-python",
   "name": "python",
   "nbconvert_exporter": "python",
   "pygments_lexer": "ipython3",
   "version": "3.10.0"
  },
  "orig_nbformat": 4,
  "vscode": {
   "interpreter": {
    "hash": "844a783a5f8f4b5a386ac65a83e399dd5ccd6022651d4f45eaf90b7780357e2c"
   }
  }
 },
 "nbformat": 4,
 "nbformat_minor": 2
}
